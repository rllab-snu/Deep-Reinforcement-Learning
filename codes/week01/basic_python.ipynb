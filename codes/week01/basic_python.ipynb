{
 "cells": [
  {
   "cell_type": "markdown",
   "metadata": {},
   "source": [
    "# LOAD PACKAGES!"
   ]
  },
  {
   "cell_type": "code",
   "execution_count": 1,
   "metadata": {},
   "outputs": [
    {
     "name": "stdout",
     "output_type": "stream",
     "text": [
      "Loading package(s)\n"
     ]
    }
   ],
   "source": [
    "import numpy as np\n",
    "print (\"Loading package(s)\")"
   ]
  },
  {
   "cell_type": "markdown",
   "metadata": {},
   "source": [
    "# PRINT function suages"
   ]
  },
  {
   "cell_type": "code",
   "execution_count": 2,
   "metadata": {},
   "outputs": [
    {
     "name": "stdout",
     "output_type": "stream",
     "text": [
      "Hello, world!\n",
      "String: [Hello, world], [Hello, world], [        Hello, world]\n",
      "Integer: 3, 03, 003, 0003, 00003\n",
      "Float: 123, 123.5, 123.46, 123.46, 123.46\n",
      "Today is 2018.04.20\n"
     ]
    }
   ],
   "source": [
    "print(\"Hello, world!\")\n",
    "\n",
    "# 1. STRING\n",
    "x = \"Hello, world\"\n",
    "print (\"String: [%s], [%3s], [%20s]\" % (x, x, x))\n",
    "\n",
    "# 2. INTEGER\n",
    "x = 3;\n",
    "print (\"Integer: %01d, %02d, %03d, %04d, %05d\" % (x, x, x, x, x))\n",
    "\n",
    "# 3. FLOAT\n",
    "x = 123.456;\n",
    "print (\"Float: %.0f, %.1f, %.2f, %1.2f, %2.2f\" % (x, x, x, x, x))\n",
    "\n",
    "# 4. {}\n",
    "a = \"Today\"\n",
    "b = \"is\"\n",
    "y = 2018\n",
    "m = 4\n",
    "d = 20\n",
    "print(\"{} {} {}.{:02}.{}\".format(a,b,y,m,d))"
   ]
  },
  {
   "cell_type": "markdown",
   "metadata": {},
   "source": [
    "# FOR + IF/ELSE"
   ]
  },
  {
   "cell_type": "code",
   "execution_count": 3,
   "metadata": {},
   "outputs": [
    {
     "name": "stdout",
     "output_type": "stream",
     "text": [
      "We have seen BELLMAN EQUATION\n",
      "We will see BELLMAN OPTIMALITY\n",
      "We will see VALUE ITERATION\n",
      "We will see POLICY ITERATION\n"
     ]
    }
   ],
   "source": [
    "rlmethods = [\"BELLMAN EQUATION\", \"BELLMAN OPTIMALITY\", \"VALUE ITERATION\", \"POLICY ITERATION\", \"ACTOR CRITIC METHODS\", \"POLICY GRADIENT\"]\n",
    "\n",
    "for alg in rlmethods:\n",
    "    if alg==\"BELLMAN EQUATION\":\n",
    "        print (\"We have seen %s\" % (alg))\n",
    "\n",
    "for alg in rlmethods:\n",
    "    if alg in [ \"BELLMAN OPTIMALITY\", \"VALUE ITERATION\", \"POLICY ITERATION\"]:\n",
    "        print (\"We will see %s\" % (alg))"
   ]
  },
  {
   "cell_type": "markdown",
   "metadata": {},
   "source": [
    "# FOR LOOP WITH INDEX"
   ]
  },
  {
   "cell_type": "code",
   "execution_count": 4,
   "metadata": {},
   "outputs": [
    {
     "name": "stdout",
     "output_type": "stream",
     "text": [
      "\n",
      "FOR loop with index.\n",
      "[0/6] BELLMAN EQUATION is a core equation.\n",
      "[1/6] BELLMAN OPTIMALITY is a core equation.\n",
      "[2/6] VALUE ITERATION is a value-based method.\n",
      "[3/6] POLICY ITERATION is a policy and value based method.\n",
      "[4/6] ACTOR CRITIC METHODS is a policy and value based method.\n",
      "[5/6] POLICY GRADIENT is a policy-based method.\n"
     ]
    }
   ],
   "source": [
    "# Little more advanced?\n",
    "print(\"\\nFOR loop with index.\")\n",
    "for alg, i in zip(rlmethods, range(len(rlmethods))):\n",
    "    if alg in [\"VALUE ITERATION\"]:\n",
    "        print (\"[%d/%d] %s is a value-based method.\" \n",
    "               % (i, len(rlmethods), alg))\n",
    "    elif alg in [\"POLICY ITERATION\", \"ACTOR CRITIC METHODS\"]:\n",
    "        print (\"[%d/%d] %s is a policy and value based method.\" \n",
    "               % (i, len(rlmethods), alg))\n",
    "    elif alg in [\"POLICY GRADIENT\"]:\n",
    "        print (\"[%d/%d] %s is a policy-based method.\" \n",
    "               % (i, len(rlmethods), alg))\n",
    "    else:\n",
    "        print(\"[%d/%d] %s is a core equation.\" \n",
    "               % (i, len(rlmethods), alg))"
   ]
  },
  {
   "cell_type": "markdown",
   "metadata": {},
   "source": [
    "## Note that, index starts with 0!"
   ]
  },
  {
   "cell_type": "markdown",
   "metadata": {},
   "source": [
    "# FUNCTIONS"
   ]
  },
  {
   "cell_type": "code",
   "execution_count": 5,
   "metadata": {},
   "outputs": [
    {
     "name": "stdout",
     "output_type": "stream",
     "text": [
      "10.0 + 20.0 = 30.0\n"
     ]
    }
   ],
   "source": [
    "# Function definition looks like this\n",
    "def sum(a, b):\n",
    "    return a+b\n",
    "X = 10.\n",
    "Y = 20.\n",
    "# Usage \n",
    "print (\"%.1f + %.1f = %.1f\" % (X, Y, sum(X, Y)))"
   ]
  },
  {
   "cell_type": "markdown",
   "metadata": {},
   "source": [
    "# STRING"
   ]
  },
  {
   "cell_type": "code",
   "execution_count": 7,
   "metadata": {},
   "outputs": [
    {
     "name": "stdout",
     "output_type": "stream",
     "text": [
      "Reinforcement learning is very HARD.\n",
      "Reinforcement learning is very very very HARD.\n",
      "Reinforcement learning is very very very very very very very very very very HARD.\n",
      "\n",
      "==================================================\n",
      "               It is used in this way\n",
      "==================================================\n",
      "\n",
      "Index: [00/12] Char: H\n",
      "Index: [01/12] Char: e\n",
      "Index: [02/12] Char: l\n",
      "Index: [03/12] Char: l\n",
      "Index: [04/12] Char: o\n",
      "Index: [05/12] Char: ,\n",
      "Index: [06/12] Char:  \n",
      "Index: [07/12] Char: w\n",
      "Index: [08/12] Char: o\n",
      "Index: [09/12] Char: r\n",
      "Index: [10/12] Char: l\n",
      "Index: [11/12] Char: d\n"
     ]
    }
   ],
   "source": [
    "head = \"Reinforcement learning\" \n",
    "body = \"very \"\n",
    "tail = \"HARD.\"\n",
    "print (head + \" is \" + body + tail)\n",
    "\n",
    "# Repeat words\n",
    "print (head + \" is \" + body*3 + tail)\n",
    "print (head + \" is \" + body*10 + tail)\n",
    "\n",
    "# It is used in this way\n",
    "print (\"\\n\" + \"=\"*50)\n",
    "print (\" \"*15 + \"It is used in this way\")\n",
    "print (\"=\"*50 + \"\\n\")\n",
    "\n",
    "# Indexing characters in the string\n",
    "x = \"Hello, world\" \n",
    "for i in range(len(x)):\n",
    "    print (\"Index: [%02d/%02d] Char: %s\" \n",
    "           % (i, len(x), x[i]))"
   ]
  },
  {
   "cell_type": "code",
   "execution_count": 8,
   "metadata": {
    "scrolled": true
   },
   "outputs": [
    {
     "name": "stdout",
     "output_type": "stream",
     "text": [
      "\n",
      "(-2)th char is l\n",
      "String from 0 to 8 is [Hello, w]\n",
      "String from 4 to END is [o, world]\n",
      "[20160607Cloudy] -> [2016] + [0607] + [Cloudy] \n"
     ]
    }
   ],
   "source": [
    "# More indexing \n",
    "print(\"\")\n",
    "idx = -2\n",
    "print(\"(%d)th char is %s\" % (idx, x[idx]))\n",
    "idxfr = 0\n",
    "idxto = 8\n",
    "print(\"String from %d to %d is [%s]\" \n",
    "       % (idxfr, idxto, x[idxfr:idxto]))\n",
    "idxfr = 4\n",
    "print(\"String from %d to END is [%s]\" \n",
    "       % (idxfr, x[idxfr:]))\n",
    "x = \"20160607Cloudy\"\n",
    "year = x[:4]\n",
    "day = x[4:8]\n",
    "weather = x[8:]\n",
    "print(\"[%s] -> [%s] + [%s] + [%s] \" \n",
    "       % (x, year, day, weather))"
   ]
  },
  {
   "cell_type": "markdown",
   "metadata": {},
   "source": [
    "# LIST"
   ]
  },
  {
   "cell_type": "code",
   "execution_count": null,
   "metadata": {},
   "outputs": [
    {
     "name": "stdout",
     "output_type": "stream",
     "text": [
      "[]\n",
      "['a']\n",
      "['a', 123]\n",
      "['a', 123, ['a', 'b']]\n",
      "Length of x is 3 \n",
      "[00/03] a\n",
      "[01/03] 123\n",
      "[02/03] ['a', 'b']\n"
     ]
    }
   ],
   "source": [
    "a = []\n",
    "b = [1, 2, 3]\n",
    "c = [\"Hello\", \",\", \"world\"]\n",
    "d = [1, 2, 3, \"x\", \"y\", \"z\"]\n",
    "x = []\n",
    "print(x)\n",
    "x.append('a')\n",
    "print(x)\n",
    "x.append(123)\n",
    "print(x)\n",
    "x.append([\"a\", \"b\"])\n",
    "print(x)\n",
    "print(\"Length of x is %d \" \n",
    "      % (len(x)))\n",
    "for i in range(len(x)):\n",
    "    print(\"[%02d/%02d] %s\" \n",
    "           % (i, len(x), x[i]))"
   ]
  },
  {
   "cell_type": "code",
   "execution_count": null,
   "metadata": {},
   "outputs": [],
   "source": [
    "z = []\n",
    "z.append(1)\n",
    "z.append(2)\n",
    "z.append(3)\n",
    "z.append('Hello')\n",
    "for i in range(len(z)):\n",
    "    print (z[i])"
   ]
  },
  {
   "cell_type": "markdown",
   "metadata": {},
   "source": [
    "# DICTIONARY"
   ]
  },
  {
   "cell_type": "code",
   "execution_count": null,
   "metadata": {},
   "outputs": [],
   "source": [
    "dic = dict()\n",
    "dic[\"name\"] = \"Kyungjae\"\n",
    "dic[\"age\"] = 27\n",
    "dic[\"job\"] = \"Ph.D. Candidate\"\n",
    "\n",
    "print(dic.keys())\n",
    "print(dic)"
   ]
  },
  {
   "cell_type": "code",
   "execution_count": null,
   "metadata": {},
   "outputs": [],
   "source": [
    "dic = {\"name\":\"Kyungjae\",\"age\":27,\"job\":\"Ph.D. Candidate\"}\n",
    "\n",
    "print(dic.keys())\n",
    "print(dic)"
   ]
  },
  {
   "cell_type": "markdown",
   "metadata": {},
   "source": [
    "# Class"
   ]
  },
  {
   "cell_type": "code",
   "execution_count": null,
   "metadata": {},
   "outputs": [],
   "source": [
    "class Greeter:\n",
    "\n",
    "    # Constructor\n",
    "    def __init__(self, name):\n",
    "        self.name = name  # Create an instance variable\n",
    "\n",
    "    # Instance method\n",
    "    def greet(self, loud=False):\n",
    "        if loud:\n",
    "            print ('HELLO, %s!' \n",
    "                   % self.name.upper())\n",
    "        else:\n",
    "            print ('Hello, %s' \n",
    "                   % self.name)\n",
    "\n",
    "g = Greeter('Fred')  # Construct an instance of the Greeter class\n",
    "g.greet()            # Call an instance method; prints \"Hello, Fred\"\n",
    "g.greet(loud=True)   # Call an instance method; prints \"HELLO, FRED!\""
   ]
  },
  {
   "cell_type": "markdown",
   "metadata": {},
   "source": [
    "# NUMPY"
   ]
  },
  {
   "cell_type": "code",
   "execution_count": null,
   "metadata": {},
   "outputs": [],
   "source": [
    "def print_np(x):\n",
    "    print (\"Type is %s\" % (type(x)))\n",
    "    print (\"Shape is %s\" % (x.shape,))\n",
    "    print (\"Values are: \\n%s\" % (x))\n",
    "    print"
   ]
  },
  {
   "cell_type": "markdown",
   "metadata": {},
   "source": [
    "# RANK 1 ARRAY"
   ]
  },
  {
   "cell_type": "code",
   "execution_count": null,
   "metadata": {},
   "outputs": [],
   "source": [
    "x = np.array([1, 2, 3]) # rank 1 array\n",
    "print_np(x)\n",
    "\n",
    "x[0] = 5\n",
    "print_np(x)"
   ]
  },
  {
   "cell_type": "markdown",
   "metadata": {},
   "source": [
    "# RANK 2 ARRAY"
   ]
  },
  {
   "cell_type": "code",
   "execution_count": null,
   "metadata": {},
   "outputs": [],
   "source": [
    "y = np.array([[1,2,3], [4,5,6]]) \n",
    "print_np(y)"
   ]
  },
  {
   "cell_type": "markdown",
   "metadata": {},
   "source": [
    "# RANK 2 ZEROS"
   ]
  },
  {
   "cell_type": "code",
   "execution_count": null,
   "metadata": {},
   "outputs": [],
   "source": [
    "a = np.zeros((3, 2))  \n",
    "print_np(a)"
   ]
  },
  {
   "cell_type": "markdown",
   "metadata": {},
   "source": [
    "# RANK 2 ONES"
   ]
  },
  {
   "cell_type": "code",
   "execution_count": null,
   "metadata": {},
   "outputs": [],
   "source": [
    "b = np.ones((1, 2))   \n",
    "print_np(b)"
   ]
  },
  {
   "cell_type": "markdown",
   "metadata": {},
   "source": [
    "# RANK 2 IDENTITY "
   ]
  },
  {
   "cell_type": "code",
   "execution_count": null,
   "metadata": {},
   "outputs": [],
   "source": [
    "c = np.eye(2, 2)   \n",
    "print_np(c)"
   ]
  },
  {
   "cell_type": "markdown",
   "metadata": {},
   "source": [
    "# RANDOM MATRIX (UNIFORM)"
   ]
  },
  {
   "cell_type": "code",
   "execution_count": null,
   "metadata": {},
   "outputs": [],
   "source": [
    "d = np.random.random((2, 2))    \n",
    "print_np(d)"
   ]
  },
  {
   "cell_type": "markdown",
   "metadata": {},
   "source": [
    "# RANDOM MATRIX (GAUSSIAN)\n"
   ]
  },
  {
   "cell_type": "code",
   "execution_count": null,
   "metadata": {},
   "outputs": [],
   "source": [
    "e = np.random.randn(1, 10)    \n",
    "print_np(e)"
   ]
  },
  {
   "cell_type": "markdown",
   "metadata": {},
   "source": [
    "# ARRAY INDEXING"
   ]
  },
  {
   "cell_type": "code",
   "execution_count": null,
   "metadata": {},
   "outputs": [],
   "source": [
    "# Create the following rank 2 array with shape (3, 4)\n",
    "# [[ 1  2  3  4]\n",
    "#  [ 5  6  7  8]\n",
    "#  [ 9 10 11 12]]\n",
    "a = np.array([[1,2,3,4], [5,6,7,8], [9,10,11,12]])\n",
    "print_np(a)\n",
    "\n",
    "print\n",
    "# Use slicing to pull out the subarray consisting \n",
    "# of the first 2 rows\n",
    "# and columns 1 and 2; b is the following array \n",
    "# of shape (2, 2):\n",
    "# [[2 3]\n",
    "#  [6 7]]\n",
    "b = a[:2, 1:3]\n",
    "print_np(b)"
   ]
  },
  {
   "cell_type": "markdown",
   "metadata": {},
   "source": [
    "# GET ROW"
   ]
  },
  {
   "cell_type": "code",
   "execution_count": null,
   "metadata": {},
   "outputs": [],
   "source": [
    "a = np.array([[1,2,3,4], [5,6,7,8], [9,10,11,12]])\n",
    "print_np(a)\n",
    "\n",
    "row_r1 = a[1, :]    # Rank 1 view of the second row of a  \n",
    "row_r2 = a[1:2, :]  # Rank 2 view of the second row of a\n",
    "row_r3 = a[[1], :]  # Rank 2 view of the second row of a\n",
    "\n",
    "print_np(row_r1)\n",
    "print_np(row_r2)\n",
    "print_np(row_r3)"
   ]
  },
  {
   "cell_type": "markdown",
   "metadata": {},
   "source": [
    "# DATATYPES"
   ]
  },
  {
   "cell_type": "code",
   "execution_count": null,
   "metadata": {},
   "outputs": [],
   "source": [
    "x = np.array([1, 2])  # Let numpy choose the datatype\n",
    "y = np.array([1.0, 2.0])  # Let numpy choose the datatype\n",
    "z = np.array([1, 2], dtype=np.int64)  # particular datatype\n",
    "\n",
    "print_np(x)\n",
    "print_np(y)\n",
    "print_np(z)"
   ]
  },
  {
   "cell_type": "markdown",
   "metadata": {},
   "source": [
    "# Array math"
   ]
  },
  {
   "cell_type": "code",
   "execution_count": null,
   "metadata": {},
   "outputs": [],
   "source": [
    "x = np.array([[1,2],[3,4]], dtype=np.float64)\n",
    "y = np.array([[5,6],[7,8]], dtype=np.float64)\n",
    "\n",
    "# Elementwise sum; both produce the array\n",
    "print(x + y)\n",
    "print(np.add(x, y))"
   ]
  },
  {
   "cell_type": "code",
   "execution_count": null,
   "metadata": {},
   "outputs": [],
   "source": [
    "#  Elementwise difference; both produce the array\n",
    "print(x - y)\n",
    "print(np.subtract(x, y))"
   ]
  },
  {
   "cell_type": "code",
   "execution_count": null,
   "metadata": {},
   "outputs": [],
   "source": [
    "# Elementwise product; both produce the array\n",
    "print(x * y)\n",
    "print(np.multiply(x, y))"
   ]
  },
  {
   "cell_type": "code",
   "execution_count": null,
   "metadata": {},
   "outputs": [],
   "source": [
    "# Elementwise division; both produce the array\n",
    "# [[ 0.2         0.33333333]\n",
    "#  [ 0.42857143  0.5       ]]\n",
    "print(x / y)\n",
    "print(np.divide(x, y))"
   ]
  },
  {
   "cell_type": "code",
   "execution_count": null,
   "metadata": {},
   "outputs": [],
   "source": [
    "# Elementwise square root; produces the array\n",
    "# [[ 1.          1.41421356]\n",
    "#  [ 1.73205081  2.        ]]\n",
    "print (np.sqrt(x))"
   ]
  },
  {
   "cell_type": "markdown",
   "metadata": {},
   "source": [
    "# MATRIX OPERATION"
   ]
  },
  {
   "cell_type": "code",
   "execution_count": null,
   "metadata": {},
   "outputs": [],
   "source": [
    "x = np.array([[1,2],[3,4]])\n",
    "y = np.array([[5,6],[7,8]])\n",
    "v = np.array([9,10])\n",
    "w = np.array([11, 12])\n",
    "\n",
    "print_np(x)\n",
    "print_np(y)\n",
    "print_np(v)\n",
    "print_np(w)"
   ]
  },
  {
   "cell_type": "markdown",
   "metadata": {},
   "source": [
    "# VECTORS-VECTORS OPERATION"
   ]
  },
  {
   "cell_type": "code",
   "execution_count": null,
   "metadata": {},
   "outputs": [],
   "source": [
    "# Inner product of vectors; both produce 219\n",
    "print_np(v.dot(w))\n",
    "print_np(np.dot(v, w)) # <= v * w"
   ]
  },
  {
   "cell_type": "markdown",
   "metadata": {},
   "source": [
    "# MATRIX-VECTOR OPERATION"
   ]
  },
  {
   "cell_type": "code",
   "execution_count": null,
   "metadata": {},
   "outputs": [],
   "source": [
    "# Matrix / vector product; both produce the rank 1 array [29 67]\n",
    "print_npprint_np(x.dot(v))\n",
    "print_np(np.dot(x, v)) # <= x * v'"
   ]
  },
  {
   "cell_type": "markdown",
   "metadata": {},
   "source": [
    "# MATRIX-MATRIX OPERATION"
   ]
  },
  {
   "cell_type": "code",
   "execution_count": null,
   "metadata": {},
   "outputs": [],
   "source": [
    "# Matrix / matrix product; both produce the rank 2 array\n",
    "# [[19 22]\n",
    "#  [43 50]]\n",
    "print_np(x.dot(y))\n",
    "print_np(np.dot(x, y))"
   ]
  },
  {
   "cell_type": "markdown",
   "metadata": {},
   "source": [
    "# TRANSPOSE"
   ]
  },
  {
   "cell_type": "code",
   "execution_count": null,
   "metadata": {},
   "outputs": [],
   "source": [
    "x = np.array([[1,2],[3,4]])\n",
    "print_np(x)\n",
    "print_np(x.T)"
   ]
  },
  {
   "cell_type": "code",
   "execution_count": null,
   "metadata": {},
   "outputs": [],
   "source": [
    "v = np.array([1,2,3])\n",
    "print_np(v) \n",
    "print_np(v.T)"
   ]
  },
  {
   "cell_type": "code",
   "execution_count": null,
   "metadata": {},
   "outputs": [],
   "source": [
    "v = np.array([[1,2,3]])\n",
    "print_np(v) \n",
    "print_np(v.T)"
   ]
  },
  {
   "cell_type": "markdown",
   "metadata": {},
   "source": [
    "# Other useful operations\n"
   ]
  },
  {
   "cell_type": "code",
   "execution_count": null,
   "metadata": {},
   "outputs": [],
   "source": [
    "# We will add the vector v to each row of the matrix x,\n",
    "# storing the result in the matrix y\n",
    "x = np.array([[1,2,3], [4,5,6], [7,8,9], [10, 11, 12]])\n",
    "v = np.array([1, 0, 1])\n",
    "y = np.empty_like(x)    # Create an empty matrix \n",
    "                        # with the same shape as x\n",
    "\n",
    "print_np(x)\n",
    "print_np(v)\n",
    "print_np(y)"
   ]
  },
  {
   "cell_type": "code",
   "execution_count": null,
   "metadata": {},
   "outputs": [],
   "source": [
    "# Add the vector v to each row of the matrix x \n",
    "# with an explicit loop\n",
    "for i in range(4):\n",
    "    y[i, :] = x[i, :] + v\n",
    "print_np(y)"
   ]
  },
  {
   "cell_type": "code",
   "execution_count": null,
   "metadata": {},
   "outputs": [],
   "source": [
    "vv = np.tile(v, (4, 1))  # Stack 4 copies of v on top of each other\n",
    "print_np(vv)             # Prints \"[[1 0 1]\n",
    "                         #          [1 0 1]\n",
    "                         #          [1 0 1]\n",
    "                         #          [1 0 1]]\""
   ]
  },
  {
   "cell_type": "code",
   "execution_count": null,
   "metadata": {},
   "outputs": [],
   "source": [
    "# We will add the vector v to each row of the matrix x,\n",
    "# storing the result in the matrix y\n",
    "x = np.array([[1,2,3], [4,5,6], [7,8,9], [10, 11, 12]])\n",
    "v = np.array([1, 0, 1])\n",
    "y = x + v  # Add v to each row of x using BROADCASTING\n",
    "print_np(x)\n",
    "print_np(v)\n",
    "print_np(y)"
   ]
  },
  {
   "cell_type": "code",
   "execution_count": null,
   "metadata": {},
   "outputs": [],
   "source": [
    "# Add a vector to each row of a matrix\n",
    "x = np.array([[1,2,3], [4,5,6]])\n",
    "\n",
    "print_np(x)\n",
    "print_np(v)\n",
    "print(x + v)"
   ]
  },
  {
   "cell_type": "code",
   "execution_count": null,
   "metadata": {},
   "outputs": [],
   "source": [
    "# Add a vector to each column of a matrix\n",
    "print_np(x)\n",
    "print_np(w)\n",
    "print((x.T + w).T)\n",
    "\n",
    "# Another solution is to reshape w \n",
    "# to be a row vector of shape (2, 1);\n",
    "print\n",
    "print(x + np.reshape(w, (2, 1)))"
   ]
  },
  {
   "cell_type": "markdown",
   "metadata": {},
   "source": [
    "# Matplotlib"
   ]
  },
  {
   "cell_type": "code",
   "execution_count": null,
   "metadata": {},
   "outputs": [],
   "source": [
    "import matplotlib.pyplot as plt\n",
    "%matplotlib inline"
   ]
  },
  {
   "cell_type": "code",
   "execution_count": null,
   "metadata": {},
   "outputs": [],
   "source": [
    "# Compute the x and y coordinates for points on a sine curve\n",
    "x = np.arange(0, 3 * np.pi, 0.1)\n",
    "y = np.sin(x)\n",
    "\n",
    "# Plot the points using matplotlib\n",
    "plt.plot(x, y)"
   ]
  },
  {
   "cell_type": "code",
   "execution_count": null,
   "metadata": {},
   "outputs": [],
   "source": [
    "y_sin = np.sin(x)\n",
    "y_cos = np.cos(x)\n",
    "# Plot the points using matplotlib\n",
    "plt.plot(x, y_sin)\n",
    "plt.plot(x, y_cos)\n",
    "plt.xlabel('x axis label')\n",
    "plt.ylabel('y axis label')\n",
    "plt.title('Sine and Cosine')\n",
    "plt.legend(['Sine', 'Cosine'])\n",
    "\n",
    "# Show the figure.\n",
    "plt.show()"
   ]
  },
  {
   "cell_type": "code",
   "execution_count": null,
   "metadata": {},
   "outputs": [],
   "source": [
    "# Compute the x and y coordinates for points \n",
    "# on sine and cosine curves\n",
    "x = np.arange(0, 3 * np.pi, 0.1)\n",
    "y_sin = np.sin(x)\n",
    "y_cos = np.cos(x)\n",
    "\n",
    "# Set up a subplot grid that has height 2 and width 1,\n",
    "# and set the first such subplot as active.\n",
    "plt.subplot(2, 1, 1)\n",
    "\n",
    "# Make the first plot\n",
    "plt.plot(x, y_sin)\n",
    "plt.title('Sine')\n",
    "\n",
    "# Set the second subplot as active, and make the second plot.\n",
    "plt.subplot(2, 1, 2)\n",
    "plt.plot(x, y_cos)\n",
    "plt.title('Cosine')\n",
    "\n",
    "# Show the figure.\n",
    "plt.show()"
   ]
  }
 ],
 "metadata": {
  "kernelspec": {
   "display_name": "Python 2",
   "language": "python",
   "name": "python2"
  },
  "language_info": {
   "codemirror_mode": {
    "name": "ipython",
    "version": 2
   },
   "file_extension": ".py",
   "mimetype": "text/x-python",
   "name": "python",
   "nbconvert_exporter": "python",
   "pygments_lexer": "ipython2",
   "version": "2.7.12"
  }
 },
 "nbformat": 4,
 "nbformat_minor": 2
}

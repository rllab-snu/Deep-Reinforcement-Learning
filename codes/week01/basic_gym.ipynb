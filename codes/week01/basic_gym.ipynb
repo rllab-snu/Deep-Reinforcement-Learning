{
 "cells": [
  {
   "cell_type": "code",
   "execution_count": null,
   "metadata": {},
   "outputs": [],
   "source": [
    "import gym\n",
    "from gym import envs\n",
    "import numpy as np\n",
    "import matplotlib.pyplot as plt\n",
    "%matplotlib inline"
   ]
  },
  {
   "cell_type": "markdown",
   "metadata": {},
   "source": [
    "# Download and build packages for visualization in jupyter\n",
    "### git clone https://github.com/jakevdp/JSAnimation\n",
    "### cd JSAnimation\n",
    "### python3 setup.py install"
   ]
  },
  {
   "cell_type": "code",
   "execution_count": null,
   "metadata": {},
   "outputs": [],
   "source": [
    "# Imports specifically so we can render outputs in Jupyter.\n",
    "from JSAnimation.IPython_display import display_animation\n",
    "from matplotlib import animation\n",
    "from IPython.display import display\n",
    "\n",
    "\n",
    "def display_frames_as_gif(frames):\n",
    "    patch = plt.imshow(frames[0])\n",
    "    plt.axis('off')\n",
    "    def animate(i):\n",
    "        patch.set_data(frames[i])\n",
    "\n",
    "    anim = animation.FuncAnimation(plt.gcf(), animate, frames = len(frames), interval=5)\n",
    "    display(display_animation(anim, default_mode='loop'))"
   ]
  },
  {
   "cell_type": "markdown",
   "metadata": {},
   "source": [
    "# List of Environment"
   ]
  },
  {
   "cell_type": "code",
   "execution_count": null,
   "metadata": {},
   "outputs": [],
   "source": [
    "envids = [spec.id for spec in envs.registry.all()]\n",
    "for envid in sorted(envids):\n",
    "    if envid in [\"CartPole-v1\",\"FrozenLake8x8-v0\",\"PongDeterministic-v4\"]:\n",
    "        print(envid)"
   ]
  },
  {
   "cell_type": "markdown",
   "metadata": {},
   "source": [
    "# FrozenLake"
   ]
  },
  {
   "cell_type": "code",
   "execution_count": null,
   "metadata": {},
   "outputs": [],
   "source": [
    "env = gym.make('FrozenLake8x8-v0')\n",
    "env.reset()\n",
    "render_flag = env.render(mode = 'rgb_array')"
   ]
  },
  {
   "cell_type": "markdown",
   "metadata": {},
   "source": [
    "### State and Action Space"
   ]
  },
  {
   "cell_type": "code",
   "execution_count": null,
   "metadata": {},
   "outputs": [],
   "source": [
    "obs_space = env.observation_space\n",
    "print('Observation space')\n",
    "print(type(obs_space))\n",
    "print(\"Total {} states\".format(obs_space.n))\n",
    "print()\n",
    "\n",
    "act_space = env.action_space\n",
    "print('Action space')\n",
    "print(type(act_space))\n",
    "print(\"Total {} actions\".format(act_space.n))\n",
    "print()"
   ]
  },
  {
   "cell_type": "code",
   "execution_count": null,
   "metadata": {},
   "outputs": [],
   "source": [
    "env.reset()\n",
    "for t in range(10000):\n",
    "    print('t = %d'%t)\n",
    "    env.render(mode = 'rgb_array')\n",
    "    print('')\n",
    "    action = env.action_space.sample()\n",
    "    observation, reward, done, info = env.step(action)\n",
    "    if done:\n",
    "        break\n",
    "env.render(mode = 'rgb_array')\n",
    "env.close()"
   ]
  },
  {
   "cell_type": "markdown",
   "metadata": {},
   "source": [
    "### Transition Probability"
   ]
  },
  {
   "cell_type": "code",
   "execution_count": null,
   "metadata": {},
   "outputs": [],
   "source": [
    "P = env.unwrapped.P\n",
    "# P(s'|s,a)\n",
    "print('State:')\n",
    "print(type(P))\n",
    "print(P.keys())\n",
    "print()\n",
    "\n",
    "print('Action:')\n",
    "print(P[0].keys())\n",
    "print(P[0][0])\n",
    "print()\n",
    "\n",
    "print('Prob, Next state, Reward, Done:')\n",
    "print(P[0][0][0])"
   ]
  },
  {
   "cell_type": "code",
   "execution_count": null,
   "metadata": {},
   "outputs": [],
   "source": [
    "for s in P.keys():\n",
    "    for a in P[s].keys():\n",
    "        for next_s_info in P[s][a]:\n",
    "            print('P(s\\':{}|s:{},a:{}) = {:.2}, Reward:{}'.format(next_s_info[1],s,a,next_s_info[0],next_s_info[2]))"
   ]
  },
  {
   "cell_type": "markdown",
   "metadata": {},
   "source": [
    "# CartPole"
   ]
  },
  {
   "cell_type": "code",
   "execution_count": null,
   "metadata": {},
   "outputs": [],
   "source": [
    "env = gym.make('CartPole-v1')\n",
    "obs = env.reset()"
   ]
  },
  {
   "cell_type": "code",
   "execution_count": null,
   "metadata": {},
   "outputs": [],
   "source": [
    "obs_space = env.observation_space\n",
    "print('Observation space')\n",
    "print(type(obs_space))\n",
    "print(obs_space.shape)\n",
    "print(\"Dimension:{}\".format(obs_space.shape[0]))\n",
    "print(\"High: {}\".format(obs_space.high))\n",
    "print(\"Low: {}\".format(obs_space.low))\n",
    "print()\n",
    "\n",
    "act_space = env.action_space\n",
    "print('Action space')\n",
    "print(type(act_space))\n",
    "print(\"Total {} actions\".format(act_space.n))\n",
    "print()"
   ]
  },
  {
   "cell_type": "code",
   "execution_count": null,
   "metadata": {},
   "outputs": [],
   "source": [
    "env.reset()\n",
    "cum_reward = 0\n",
    "frames = []\n",
    "for t in range(10000):\n",
    "    # Render into buffer. \n",
    "    frames.append(env.render(mode = 'rgb_array'))\n",
    "    action = env.action_space.sample()\n",
    "    observation, reward, done, info = env.step(action)\n",
    "    if done:\n",
    "        break\n",
    "env.close()\n",
    "display_frames_as_gif(frames)"
   ]
  }
 ],
 "metadata": {
  "kernelspec": {
   "display_name": "Python 3",
   "language": "python",
   "name": "python3"
  },
  "language_info": {
   "codemirror_mode": {
    "name": "ipython",
    "version": 3
   },
   "file_extension": ".py",
   "mimetype": "text/x-python",
   "name": "python",
   "nbconvert_exporter": "python",
   "pygments_lexer": "ipython3",
   "version": "3.6.5"
  }
 },
 "nbformat": 4,
 "nbformat_minor": 2
}

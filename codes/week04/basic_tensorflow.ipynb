{
 "cells": [
  {
   "cell_type": "markdown",
   "metadata": {},
   "source": [
    "# Basic TensorFlow"
   ]
  },
  {
   "cell_type": "code",
   "execution_count": 1,
   "metadata": {},
   "outputs": [
    {
     "name": "stdout",
     "output_type": "stream",
     "text": [
      "PACKAGES LOADED\n"
     ]
    }
   ],
   "source": [
    "import os\n",
    "import tensorflow as tf\n",
    "tf.logging.set_verbosity(tf.logging.ERROR)\n",
    "\n",
    "import numpy as np\n",
    "import matplotlib.pyplot as plt\n",
    "%matplotlib inline  \n",
    "print (\"PACKAGES LOADED\")"
   ]
  },
  {
   "cell_type": "markdown",
   "metadata": {},
   "source": [
    "# Session"
   ]
  },
  {
   "cell_type": "code",
   "execution_count": 2,
   "metadata": {},
   "outputs": [
    {
     "name": "stdout",
     "output_type": "stream",
     "text": [
      "OPEN SESSION\n"
     ]
    }
   ],
   "source": [
    "sess = tf.Session()\n",
    "print (\"OPEN SESSION\")"
   ]
  },
  {
   "cell_type": "markdown",
   "metadata": {},
   "source": [
    "# TF constant"
   ]
  },
  {
   "cell_type": "code",
   "execution_count": 3,
   "metadata": {},
   "outputs": [
    {
     "name": "stdout",
     "output_type": "stream",
     "text": [
      "TYPE IS\n",
      " <class 'tensorflow.python.framework.ops.Tensor'>\n",
      "VALUE IS\n",
      " Tensor(\"Const:0\", shape=(), dtype=string)\n"
     ]
    }
   ],
   "source": [
    "def print_tf(x):\n",
    "    print(\"TYPE IS\\n %s\" % (type(x)))\n",
    "    print(\"VALUE IS\\n %s\" % (x))\n",
    "hello = tf.constant(\"HELLO. IT'S ME. \")\n",
    "print_tf(hello)"
   ]
  },
  {
   "cell_type": "markdown",
   "metadata": {},
   "source": [
    "# TF session run"
   ]
  },
  {
   "cell_type": "code",
   "execution_count": 4,
   "metadata": {},
   "outputs": [
    {
     "name": "stdout",
     "output_type": "stream",
     "text": [
      "TYPE IS\n",
      " <class 'bytes'>\n",
      "VALUE IS\n",
      " b\"HELLO. IT'S ME. \"\n"
     ]
    }
   ],
   "source": [
    "hello_out = sess.run(hello)\n",
    "print_tf(hello_out)"
   ]
  },
  {
   "cell_type": "markdown",
   "metadata": {},
   "source": [
    "# Other Types of Constant\n"
   ]
  },
  {
   "cell_type": "code",
   "execution_count": 5,
   "metadata": {},
   "outputs": [
    {
     "name": "stdout",
     "output_type": "stream",
     "text": [
      "TYPE IS\n",
      " <class 'tensorflow.python.framework.ops.Tensor'>\n",
      "VALUE IS\n",
      " Tensor(\"Const_1:0\", shape=(), dtype=float32)\n",
      "TYPE IS\n",
      " <class 'tensorflow.python.framework.ops.Tensor'>\n",
      "VALUE IS\n",
      " Tensor(\"Const_2:0\", shape=(), dtype=float32)\n"
     ]
    }
   ],
   "source": [
    "a = tf.constant(1.5)\n",
    "b = tf.constant(2.5)\n",
    "print_tf(a)\n",
    "print_tf(b)"
   ]
  },
  {
   "cell_type": "code",
   "execution_count": 6,
   "metadata": {},
   "outputs": [
    {
     "name": "stdout",
     "output_type": "stream",
     "text": [
      "TYPE IS\n",
      " <class 'numpy.float32'>\n",
      "VALUE IS\n",
      " 1.5\n",
      "TYPE IS\n",
      " <class 'numpy.float32'>\n",
      "VALUE IS\n",
      " 2.5\n"
     ]
    }
   ],
   "source": [
    "a_out = sess.run(a)\n",
    "b_out = sess.run(b)\n",
    "print_tf(a_out)\n",
    "print_tf(b_out)"
   ]
  },
  {
   "cell_type": "markdown",
   "metadata": {},
   "source": [
    "# Variables"
   ]
  },
  {
   "cell_type": "code",
   "execution_count": 7,
   "metadata": {},
   "outputs": [
    {
     "name": "stdout",
     "output_type": "stream",
     "text": [
      "TYPE IS\n",
      " <class 'tensorflow.python.ops.variables.Variable'>\n",
      "VALUE IS\n",
      " <tf.Variable 'Variable:0' shape=(5, 2) dtype=float32_ref>\n"
     ]
    }
   ],
   "source": [
    "weight = tf.Variable(tf.random_normal([5, 2], stddev=0.1))\n",
    "print_tf(weight)"
   ]
  },
  {
   "cell_type": "code",
   "execution_count": 8,
   "metadata": {},
   "outputs": [
    {
     "name": "stdout",
     "output_type": "stream",
     "text": [
      "INITIALIZING ALL VARIALBES\n"
     ]
    }
   ],
   "source": [
    "init = tf.global_variables_initializer()\n",
    "sess.run(init)\n",
    "print (\"INITIALIZING ALL VARIALBES\")"
   ]
  },
  {
   "cell_type": "code",
   "execution_count": 9,
   "metadata": {},
   "outputs": [
    {
     "name": "stdout",
     "output_type": "stream",
     "text": [
      "TYPE IS\n",
      " <class 'numpy.ndarray'>\n",
      "VALUE IS\n",
      " [[-0.02734025  0.09881362]\n",
      " [-0.00336804 -0.15579462]\n",
      " [-0.06170462  0.0970235 ]\n",
      " [ 0.23000582 -0.03853491]\n",
      " [-0.00412518  0.09321313]]\n"
     ]
    }
   ],
   "source": [
    "weight_out = sess.run(weight)\n",
    "print_tf(weight_out)"
   ]
  },
  {
   "cell_type": "markdown",
   "metadata": {},
   "source": [
    "# PlaceHolders"
   ]
  },
  {
   "cell_type": "code",
   "execution_count": 10,
   "metadata": {},
   "outputs": [
    {
     "name": "stdout",
     "output_type": "stream",
     "text": [
      "TYPE IS\n",
      " <class 'tensorflow.python.framework.ops.Tensor'>\n",
      "VALUE IS\n",
      " Tensor(\"Placeholder:0\", shape=(?, 5), dtype=float32)\n"
     ]
    }
   ],
   "source": [
    "x = tf.placeholder(tf.float32, [None, 5])\n",
    "print_tf(x)"
   ]
  },
  {
   "cell_type": "markdown",
   "metadata": {},
   "source": [
    "# Operation with Variables and PlaceHolders"
   ]
  },
  {
   "cell_type": "code",
   "execution_count": 11,
   "metadata": {},
   "outputs": [
    {
     "name": "stdout",
     "output_type": "stream",
     "text": [
      "TYPE IS\n",
      " <class 'tensorflow.python.framework.ops.Tensor'>\n",
      "VALUE IS\n",
      " Tensor(\"MatMul:0\", shape=(?, 2), dtype=float32)\n"
     ]
    }
   ],
   "source": [
    "oper = tf.matmul(x, weight)\n",
    "print_tf(oper)"
   ]
  },
  {
   "cell_type": "code",
   "execution_count": 12,
   "metadata": {},
   "outputs": [
    {
     "name": "stdout",
     "output_type": "stream",
     "text": [
      "TYPE IS\n",
      " <class 'numpy.ndarray'>\n",
      "VALUE IS\n",
      " [[-0.01393372  0.00779029]]\n"
     ]
    }
   ],
   "source": [
    "data  =  np.random.rand(1, 5)\n",
    "oper_out = sess.run(oper, feed_dict={x: data})\n",
    "print_tf(oper_out)"
   ]
  },
  {
   "cell_type": "code",
   "execution_count": 13,
   "metadata": {},
   "outputs": [
    {
     "name": "stdout",
     "output_type": "stream",
     "text": [
      "TYPE IS\n",
      " <class 'numpy.ndarray'>\n",
      "VALUE IS\n",
      " [[0.08186921 0.11163397]\n",
      " [0.10741337 0.13135366]]\n"
     ]
    }
   ],
   "source": [
    "data = np.random.rand(2, 5)\n",
    "oper_out = sess.run(oper, feed_dict={x: data})\n",
    "print_tf(oper_out)"
   ]
  },
  {
   "cell_type": "markdown",
   "metadata": {},
   "source": [
    "# Simple Regression"
   ]
  },
  {
   "cell_type": "code",
   "execution_count": 14,
   "metadata": {},
   "outputs": [
    {
     "data": {
      "image/png": "[encoded data removed]",
      "text/plain": [
       "<Figure size 432x288 with 1 Axes>"
      ]
     },
     "metadata": {},
     "output_type": "display_data"
    }
   ],
   "source": [
    "np.random.seed(0)\n",
    "def f(x, W, b):\n",
    "    vals = W*x**2 + b\n",
    "    return vals\n",
    "\n",
    "# Reference parameter : y = W*x^2 + b\n",
    "Wref = 0.7\n",
    "bref = -1.\n",
    "\n",
    "n    = 40\n",
    "noise_var = 0.001\n",
    "\n",
    "# Generate Training Data Set\n",
    "train_X   = 2*np.random.random((n,1)) - 1\n",
    "train_Y   = f(train_X, Wref, bref) + np.sqrt(noise_var)*np.random.randn(n,1) # Add noise\n",
    "\n",
    "# Function\n",
    "x_list = np.linspace(-1,1,num=30)[:,np.newaxis]\n",
    "y_list = f(x_list, Wref, bref)\n",
    "\n",
    "n_samples = train_X.size \n",
    "\n",
    "# Plot\n",
    "plt.figure(1)\n",
    "plt.plot(train_X[:], train_Y[:], 'bx', label='Training data')\n",
    "plt.plot(x_list, y_list, 'k-', label='Ground Truth')\n",
    "plt.axis('equal')\n",
    "plt.legend(loc='lower right')\n",
    "plt.show()"
   ]
  },
  {
   "cell_type": "markdown",
   "metadata": {},
   "source": [
    "### Define MLP"
   ]
  },
  {
   "cell_type": "code",
   "execution_count": 15,
   "metadata": {},
   "outputs": [
    {
     "name": "stdout",
     "output_type": "stream",
     "text": [
      "Multi Layer Perceptron\n",
      "Input dim:[1],Output dim:[1]\n",
      "Trainable Variables (04)\n",
      " [00] Name:[mlp/hidden/kernel:0] Shape:[[1, 16]]\n",
      " [01] Name:[mlp/hidden/bias:0] Shape:[[16]]\n",
      " [02] Name:[mlp/y_predict/kernel:0] Shape:[[16, 1]]\n",
      " [03] Name:[mlp/y_predict/bias:0] Shape:[[1]]\n",
      "\n"
     ]
    }
   ],
   "source": [
    "input_dim = train_X.shape[1]\n",
    "output_dim = train_Y.shape[1]\n",
    "\n",
    "hid_size = 16\n",
    "\n",
    "with tf.variable_scope('mlp'):\n",
    "    x_ph = tf.placeholder(tf.float32, (None, 1), 'x')\n",
    "    y_ph = tf.placeholder(tf.float32, (None, 1), 'y')\n",
    "    learning_rate_ph = tf.placeholder(tf.float32, (), 'lr')        \n",
    "\n",
    "    out = tf.layers.dense(x_ph, hid_size, tf.tanh, # Tangent Hyperbolic Activation\n",
    "                          kernel_initializer=tf.random_normal_initializer(stddev=0.01,seed=0),\n",
    "                          name='hidden')\n",
    "    y_predict = tf.layers.dense(out, output_dim, # Linear Layer\n",
    "                          kernel_initializer=tf.random_normal_initializer(stddev=0.01,seed=0), \n",
    "                          name='y_predict')\n",
    "\n",
    "weights = tf.get_collection(tf.GraphKeys.GLOBAL_VARIABLES,scope=\"mlp\")\n",
    "\n",
    "print (\"Multi Layer Perceptron\")\n",
    "print (\"Input dim:[%d],Output dim:[%d]\"%(input_dim,output_dim))\n",
    "print (\"Trainable Variables (%02d)\" % len(weights))\n",
    "for i in range(len(weights)):\n",
    "    w_name  = weights[i].name\n",
    "    w_shape = weights[i].get_shape().as_list()\n",
    "    print (\" [%02d] Name:[%s] Shape:[%s]\" % (i,w_name,w_shape))\n",
    "print (\"\")\n"
   ]
  },
  {
   "cell_type": "markdown",
   "metadata": {},
   "source": [
    "### Define Loss and Optimizer"
   ]
  },
  {
   "cell_type": "code",
   "execution_count": 16,
   "metadata": {},
   "outputs": [],
   "source": [
    "loss = 0.5*tf.reduce_mean(tf.square(y_ph - y_predict)) # Squared Error\n",
    "optim = tf.train.AdamOptimizer(learning_rate=learning_rate_ph).minimize(loss) # AdamOptimizer (Gradient Descent Algorithm)"
   ]
  },
  {
   "cell_type": "markdown",
   "metadata": {},
   "source": [
    "### Initialize TF graph"
   ]
  },
  {
   "cell_type": "code",
   "execution_count": 17,
   "metadata": {},
   "outputs": [
    {
     "name": "stdout",
     "output_type": "stream",
     "text": [
      "Summary ready\n"
     ]
    }
   ],
   "source": [
    "# Do some optimizations\n",
    "init = tf.global_variables_initializer()\n",
    "sess.run(init)\n",
    "\n",
    "# Summary writer\n",
    "tf.summary.scalar('loss', loss)\n",
    "merged = tf.summary.merge_all()\n",
    "summary_writer = tf.summary.FileWriter('./tf_logs/mlp', graph=sess.graph)\n",
    "print (\"Summary ready\")"
   ]
  },
  {
   "cell_type": "markdown",
   "metadata": {},
   "source": [
    "### Training MLP"
   ]
  },
  {
   "cell_type": "code",
   "execution_count": 18,
   "metadata": {},
   "outputs": [
    {
     "name": "stdout",
     "output_type": "stream",
     "text": [
      "Training Start!\n",
      "Epoch: 000/300 cost: 0.280\n",
      "Epoch: 030/300 cost: 0.024\n",
      "Epoch: 060/300 cost: 0.024\n",
      "Epoch: 090/300 cost: 0.021\n",
      "Epoch: 120/300 cost: 0.001\n",
      "Epoch: 150/300 cost: 0.001\n",
      "Epoch: 180/300 cost: 0.001\n",
      "Epoch: 210/300 cost: 0.001\n",
      "Epoch: 240/300 cost: 0.001\n",
      "Epoch: 270/300 cost: 0.001\n",
      "Epoch: 300/300 cost: 0.001\n",
      "Optimization Finished!\n"
     ]
    }
   ],
   "source": [
    "print (\"Training Start!\")\n",
    "lr = 1e-2\n",
    "\n",
    "training_epochs = 300\n",
    "display_step = 30\n",
    "\n",
    "batch_size = 4\n",
    "total_batch = int(n/batch_size)\n",
    "\n",
    "# Training cycle\n",
    "for epoch in range(training_epochs+1):\n",
    "    avg_cost = 0.    \n",
    "    random_idices = np.random.permutation(n)\n",
    "    # Loop over all batches\n",
    "    for i in range(total_batch):\n",
    "        start = i*batch_size\n",
    "        end = np.minimum((i+1)*batch_size,n)\n",
    "        \n",
    "        batch_idx = random_idices[start:end]        \n",
    "        batch_X = train_X[batch_idx,:] \n",
    "        batch_Y = train_Y[batch_idx,:]\n",
    "        \n",
    "        # Fit training using batch data\n",
    "        summary, _ = sess.run([merged, optim]\n",
    "                , feed_dict={x_ph: batch_X, y_ph: batch_Y, learning_rate_ph: lr})\n",
    "        \n",
    "        # Compute average loss\n",
    "        batch_loss = sess.run(loss\n",
    "                        , feed_dict={x_ph: batch_X, y_ph: batch_Y})\n",
    "        avg_cost += batch_loss/total_batch\n",
    "        \n",
    "        # Add summary\n",
    "        summary_writer.add_summary(summary, epoch*total_batch+i)\n",
    "    \n",
    "    # Display logs per epoch step\n",
    "    if epoch % display_step == 0:\n",
    "        print (\"Epoch: %03d/%03d cost: %.3f\" % (epoch, training_epochs, avg_cost))\n",
    "print (\"Optimization Finished!\")"
   ]
  },
  {
   "cell_type": "markdown",
   "metadata": {},
   "source": [
    "### Prediction with Trained MLP"
   ]
  },
  {
   "cell_type": "code",
   "execution_count": 19,
   "metadata": {},
   "outputs": [
    {
     "data": {
      "image/png": "[encoded data removed]",
      "text/plain": [
       "<Figure size 432x288 with 1 Axes>"
      ]
     },
     "metadata": {},
     "output_type": "display_data"
    }
   ],
   "source": [
    "# Function\n",
    "y_predict_list = sess.run(y_predict, feed_dict={x_ph: x_list})\n",
    "\n",
    "# Plot\n",
    "plt.figure(1)\n",
    "plt.plot(train_X[:], train_Y[:], 'bx', label='Training data')\n",
    "plt.plot(x_list, y_predict_list, 'r-', label='Prediction')\n",
    "plt.plot(x_list, y_list, 'k-', label='Ground Truth')\n",
    "plt.axis('equal')\n",
    "plt.legend(loc='lower right')\n",
    "plt.show()"
   ]
  },
  {
   "cell_type": "markdown",
   "metadata": {},
   "source": [
    "# Check Summary\n",
    "\n",
    "### Run the command line\n",
    "#### tensorboard --logdir=./tf_logs/mlp\n",
    "### Open http://localhost:6006/ into your web browser"
   ]
  },
  {
   "cell_type": "markdown",
   "metadata": {},
   "source": [
    "![](./figs/summary.png)"
   ]
  },
  {
   "cell_type": "markdown",
   "metadata": {},
   "source": [
    "### In Graphs tab"
   ]
  },
  {
   "cell_type": "markdown",
   "metadata": {},
   "source": [
    "![](./figs/graph_structure1.png)\n",
    "![](./figs/graph_structure2.png)"
   ]
  },
  {
   "cell_type": "markdown",
   "metadata": {},
   "source": [
    "# Simple Convolutional Neural Network"
   ]
  },
  {
   "cell_type": "code",
   "execution_count": 20,
   "metadata": {},
   "outputs": [
    {
     "name": "stdout",
     "output_type": "stream",
     "text": [
      "Extracting data/train-images-idx3-ubyte.gz\n",
      "Extracting data/train-labels-idx1-ubyte.gz\n",
      "Extracting data/t10k-images-idx3-ubyte.gz\n",
      "Extracting data/t10k-labels-idx1-ubyte.gz\n",
      "Packages loaded.\n",
      "How does the training data look like?\n",
      "51692th Training Data Label is 6\n",
      "13624th Training Data Label is 9\n",
      "32013th Training Data Label is 3\n"
     ]
    },
    {
     "data": {
      "image/png": "[encoded data removed]",
      "text/plain": [
       "<Figure size 288x288 with 1 Axes>"
      ]
     },
     "metadata": {},
     "output_type": "display_data"
    },
    {
     "data": {
      "image/png": "[encoded data removed]",
      "text/plain": [
       "<Figure size 288x288 with 1 Axes>"
      ]
     },
     "metadata": {},
     "output_type": "display_data"
    },
    {
     "data": {
      "image/png": "[encoded data removed]",
      "text/plain": [
       "<Figure size 288x288 with 1 Axes>"
      ]
     },
     "metadata": {},
     "output_type": "display_data"
    }
   ],
   "source": [
    "tf.reset_default_graph()\n",
    "sess = tf.Session()\n",
    "\n",
    "from tensorflow.examples.tutorials.mnist import input_data\n",
    "mnist = input_data.read_data_sets('data/', one_hot=True)\n",
    "trainimg   = mnist.train.images\n",
    "trainlabel = mnist.train.labels\n",
    "testimg    = mnist.test.images\n",
    "testlabel  = mnist.test.labels\n",
    "print (\"Packages loaded.\")\n",
    "\n",
    "# How does the training data look like?\n",
    "print (\"How does the training data look like?\")\n",
    "nsample = 3\n",
    "randidx = np.random.randint(trainimg.shape[0], size=nsample)\n",
    "\n",
    "for i in randidx:\n",
    "    curr_img   = np.reshape(trainimg[i, :], (28, 28)) # 28 by 28 matrix \n",
    "    curr_label = np.argmax(trainlabel[i, :] ) # Label\n",
    "    plt.matshow(curr_img, cmap=plt.get_cmap('gray'))\n",
    "    plt.title(\"\" + str(i) + \"th Training Data \" \n",
    "              + \"Label is \" + str(curr_label))\n",
    "    print (\"\" + str(i) + \"th Training Data \" \n",
    "           + \"Label is \" + str(curr_label))\n",
    "\n",
    "# Training with 40 images\n",
    "nsample = 40\n",
    "rand_train_idx = np.random.randint(trainimg.shape[0], size=nsample)\n",
    "rand_test_idx = np.random.randint(testimg.shape[0], size=nsample)\n",
    "\n",
    "trainimg   = mnist.train.images[rand_train_idx,:]\n",
    "trainlabel = mnist.train.labels[rand_train_idx,:]\n",
    "testimg    = mnist.test.images[rand_test_idx,:]\n",
    "testlabel  = mnist.test.labels[rand_test_idx,:]"
   ]
  },
  {
   "cell_type": "markdown",
   "metadata": {},
   "source": [
    "### Define CNN"
   ]
  },
  {
   "cell_type": "code",
   "execution_count": 21,
   "metadata": {},
   "outputs": [
    {
     "name": "stdout",
     "output_type": "stream",
     "text": [
      "Convolutional Neural Network\n",
      "Input dim:[28,28,1],The number of class:[10]\n",
      "Trainable Variables (04)\n",
      " [00] Name:[cnn/conv1/kernel:0] Shape:[[5, 5, 1, 16]]\n",
      " [01] Name:[cnn/conv1/bias:0] Shape:[[16]]\n",
      " [02] Name:[cnn/dense/kernel:0] Shape:[[576, 10]]\n",
      " [03] Name:[cnn/dense/bias:0] Shape:[[10]]\n",
      "\n"
     ]
    }
   ],
   "source": [
    "input_dim = [28, 28, 1] # Input dimension\n",
    "n_output = 10 # Output dimension (the number of class label)\n",
    "\n",
    "hid_size = 16 # Hidden\n",
    "with tf.variable_scope('cnn'):\n",
    "    x_ph = tf.placeholder(tf.float32, [None, np.product(input_dim)], name=\"x\")    \n",
    "    y_ph = tf.placeholder(tf.float32, [None, n_output], name=\"y\")\n",
    "    learning_rate_ph = tf.placeholder(tf.float32, (), 'lr')        \n",
    "    \n",
    "    # reshape mnist input (28*28 -> (28,28,1))\n",
    "    x_reshaped = tf.reshape(x_ph, [-1,]+input_dim)\n",
    "    out = tf.layers.conv2d (x_reshaped,\n",
    "                            filters=16, # The number of filter/Channel\n",
    "                            kernel_size=[5, 5], # Filter size\n",
    "                            strides=[4, 4], # Stride\n",
    "                            activation=tf.nn.relu,\n",
    "                            kernel_initializer=tf.random_normal_initializer(stddev=0.01,seed=0),\n",
    "                            name=\"conv1\")     \n",
    "    \n",
    "    # Flatten feature map (?, 6, 6, 16) -> (?, 6*6*16)\n",
    "    out = tf.contrib.layers.flatten(out)\n",
    "    \n",
    "    logits = tf.layers.dense(out, n_output, # Linear Layer\n",
    "                          kernel_initializer=tf.random_normal_initializer(stddev=0.01,seed=0), \n",
    "                          name=\"dense\")\n",
    "    pred = tf.nn.softmax(logits,name=\"clase_probs\")\n",
    "\n",
    "weights = tf.get_collection(tf.GraphKeys.GLOBAL_VARIABLES,scope=\"cnn\")\n",
    "\n",
    "print (\"Convolutional Neural Network\")\n",
    "print (\"Input dim:[%d,%d,%d],The number of class:[%d]\"%(input_dim[0],input_dim[1],input_dim[2],n_output))\n",
    "print (\"Trainable Variables (%02d)\" % len(weights))\n",
    "for i in range(len(weights)):\n",
    "    w_name  = weights[i].name\n",
    "    w_shape = weights[i].get_shape().as_list()\n",
    "    print (\" [%02d] Name:[%s] Shape:[%s]\" % (i,w_name,w_shape))\n",
    "print (\"\")"
   ]
  },
  {
   "cell_type": "markdown",
   "metadata": {},
   "source": [
    "### Define Loss and Optimizer"
   ]
  },
  {
   "cell_type": "code",
   "execution_count": 22,
   "metadata": {},
   "outputs": [],
   "source": [
    "loss = tf.reduce_mean(tf.nn.softmax_cross_entropy_with_logits(labels=y_ph,logits=logits)) # Squared Error\n",
    "optim = tf.train.AdamOptimizer(learning_rate=learning_rate_ph).minimize(loss) # AdamOptimizer (Gradient Descent Algorithm)\n",
    "corr = tf.equal(tf.argmax(pred,1), tf.argmax(y_ph,1)) # Count corrects\n",
    "accr = tf.reduce_mean(tf.cast(corr, tf.float32)) # Accuracy"
   ]
  },
  {
   "cell_type": "markdown",
   "metadata": {},
   "source": [
    "### Initialize TF graph"
   ]
  },
  {
   "cell_type": "code",
   "execution_count": 23,
   "metadata": {},
   "outputs": [
    {
     "name": "stdout",
     "output_type": "stream",
     "text": [
      "Summary ready\n"
     ]
    }
   ],
   "source": [
    "# Do some optimizations\n",
    "init = tf.global_variables_initializer()\n",
    "sess.run(init)\n",
    "\n",
    "# Summary writer\n",
    "tf.summary.scalar('loss', loss)\n",
    "tf.summary.scalar('accr', accr)\n",
    "merged = tf.summary.merge_all()\n",
    "summary_writer = tf.summary.FileWriter('./tf_logs/cnn', graph=sess.graph)\n",
    "print (\"Summary ready\")"
   ]
  },
  {
   "cell_type": "markdown",
   "metadata": {},
   "source": [
    "### Training MLP"
   ]
  },
  {
   "cell_type": "code",
   "execution_count": 24,
   "metadata": {},
   "outputs": [
    {
     "name": "stdout",
     "output_type": "stream",
     "text": [
      "Training Start!\n",
      "Epoch: 000/010 loss: 0.000591441\n",
      " Training accuracy: 0.750\n",
      " Test accuracy: 0.925\n",
      "Epoch: 001/010 loss: 0.000591441\n",
      " Training accuracy: 1.000\n",
      " Test accuracy: 0.950\n",
      "Epoch: 002/010 loss: 0.000591441\n",
      " Training accuracy: 1.000\n",
      " Test accuracy: 0.900\n",
      "Epoch: 003/010 loss: 0.000591441\n",
      " Training accuracy: 1.000\n",
      " Test accuracy: 0.900\n",
      "Epoch: 004/010 loss: 0.000591441\n",
      " Training accuracy: 1.000\n",
      " Test accuracy: 0.925\n",
      "Epoch: 005/010 loss: 0.000591441\n",
      " Training accuracy: 1.000\n",
      " Test accuracy: 0.900\n",
      "Epoch: 006/010 loss: 0.000591441\n",
      " Training accuracy: 1.000\n",
      " Test accuracy: 0.925\n",
      "Epoch: 007/010 loss: 0.000591441\n",
      " Training accuracy: 1.000\n",
      " Test accuracy: 0.950\n",
      "Epoch: 008/010 loss: 0.000591441\n",
      " Training accuracy: 0.750\n",
      " Test accuracy: 0.950\n",
      "Epoch: 009/010 loss: 0.000591441\n",
      " Training accuracy: 0.750\n",
      " Test accuracy: 0.950\n",
      "Optimization Finished!\n"
     ]
    }
   ],
   "source": [
    "print (\"Training Start!\")\n",
    "lr = 1e-4\n",
    "\n",
    "training_epochs = 10\n",
    "display_step = 1\n",
    "\n",
    "batch_size = 4\n",
    "total_batch = int(n/batch_size)\n",
    "\n",
    "# Training cycle\n",
    "for epoch in range(training_epochs):\n",
    "    avg_loss = 0.\n",
    "    total_batch = int(mnist.train.num_examples/batch_size)\n",
    "    # Loop over all batches\n",
    "    for i in range(total_batch):\n",
    "        batch_xs, batch_ys = mnist.train.next_batch(batch_size)\n",
    "        # Fit training using batch data\n",
    "        summary, _ = sess.run([merged, optim]\n",
    "                , feed_dict={x_ph: batch_xs, y_ph: batch_ys, learning_rate_ph: lr})\n",
    "        # Compute average loss\n",
    "        avg_loss += sess.run(loss\n",
    "                , feed_dict={x_ph: batch_xs, y_ph: batch_ys})/total_batch\n",
    "        # Add summary\n",
    "        summary_writer.add_summary(summary, epoch*total_batch+i)\n",
    "    # Display logs per epoch step\n",
    "    if epoch % display_step == 0:\n",
    "        print (\"Epoch: %03d/%03d loss: %.9f\" % (epoch, training_epochs, avg_cost))\n",
    "        train_acc = sess.run(accr, feed_dict={x_ph: batch_xs, y_ph: batch_ys})\n",
    "        print (\" Training accuracy: %.3f\" % (train_acc))\n",
    "        test_acc = sess.run(accr, feed_dict={x_ph: testimg, y_ph: testlabel})\n",
    "        print (\" Test accuracy: %.3f\" % (test_acc))\n",
    "        \n",
    "print (\"Optimization Finished!\")"
   ]
  }
 ],
 "metadata": {
  "kernelspec": {
   "display_name": "Python 3",
   "language": "python",
   "name": "python3"
  },
  "language_info": {
   "codemirror_mode": {
    "name": "ipython",
    "version": 3
   },
   "file_extension": ".py",
   "mimetype": "text/x-python",
   "name": "python",
   "nbconvert_exporter": "python",
   "pygments_lexer": "ipython3",
   "version": "3.5.2"
  }
 },
 "nbformat": 4,
 "nbformat_minor": 2
}
